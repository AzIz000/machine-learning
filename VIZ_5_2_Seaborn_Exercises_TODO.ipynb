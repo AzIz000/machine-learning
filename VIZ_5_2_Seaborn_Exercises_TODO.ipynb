{
  "nbformat": 4,
  "nbformat_minor": 0,
  "metadata": {
    "colab": {
      "name": "VIZ - 5.2 - Seaborn Exercises - TODO.ipynb",
      "provenance": [],
      "collapsed_sections": [],
      "toc_visible": true,
      "authorship_tag": "ABX9TyNYonADfpr18yb0C6JOFbW7",
      "include_colab_link": true
    },
    "kernelspec": {
      "name": "python3",
      "display_name": "Python 3"
    }
  },
  "cells": [
    {
      "cell_type": "markdown",
      "metadata": {
        "id": "view-in-github",
        "colab_type": "text"
      },
      "source": [
        "<a href=\"https://colab.research.google.com/github/AzIz000/machine-learning/blob/master/VIZ_5_2_Seaborn_Exercises_TODO.ipynb\" target=\"_parent\"><img src=\"https://colab.research.google.com/assets/colab-badge.svg\" alt=\"Open In Colab\"/></a>"
      ]
    },
    {
      "cell_type": "markdown",
      "metadata": {
        "id": "uYc8xraMceyP",
        "colab_type": "text"
      },
      "source": [
        "#**WELCOME TO THE ANTARTICA**"
      ]
    },
    {
      "cell_type": "markdown",
      "metadata": {
        "id": "cmj1JxOpNKFZ",
        "colab_type": "text"
      },
      "source": [
        "![texto alternativo](https://images.pexels.com/photos/48178/mountains-ice-bergs-antarctica-berg-48178.jpeg?auto=compress&cs=tinysrgb&dpr=2&h=750&w=1260)"
      ]
    },
    {
      "cell_type": "markdown",
      "metadata": {
        "id": "OxwUjrD-N0Ce",
        "colab_type": "text"
      },
      "source": [
        "\n",
        "\n",
        "*   After finishing IMMUNE Bootcamp you have been actively applying for different DS positions where to put in practice your new skills. Today you finally received an acceptance letter from the **National Biology Center** and are required to joined them as soon as possible.\n",
        "\n",
        "\n",
        "*   The NBC is currently doing a researh on the **Antartica** penguin population. They need to **identify the amount of penguins belonging to each different species as well as it sex** in order to identify whether global warming is impacting their spread.\n",
        "\n",
        "\n",
        "*   NBC's main challenge is the great amount of time it takes to train a biologist to **identify different penguin species and their sex**. They believe just comparing different penguin basic characteristics they should be able to recognize each penguin's sex and species.\n",
        "\n",
        "*   They provide you with a **dataset of the last expedition** where you can see both these characteristics for each penguin as well as the sex and specieces already determined by an expert biologist.\n",
        "\n"
      ]
    },
    {
      "cell_type": "markdown",
      "metadata": {
        "id": "cbBWGGkb8Eod",
        "colab_type": "text"
      },
      "source": [
        "##**Setup**"
      ]
    },
    {
      "cell_type": "markdown",
      "metadata": {
        "id": "4tfIeit-8JAH",
        "colab_type": "text"
      },
      "source": [
        "###**EXERCISE 1**: *"
      ]
    },
    {
      "cell_type": "markdown",
      "metadata": {
        "id": "A7LRgvm68OKh",
        "colab_type": "text"
      },
      "source": [
        "Import matplotlib, numpy, pandas and seaborn and set your favourite seaborn style:"
      ]
    },
    {
      "cell_type": "code",
      "metadata": {
        "id": "CPz_Vc2UsLtt",
        "colab_type": "code",
        "colab": {}
      },
      "source": [
        ""
      ],
      "execution_count": null,
      "outputs": []
    },
    {
      "cell_type": "markdown",
      "metadata": {
        "colab_type": "text",
        "id": "6TFkRKc18lvT"
      },
      "source": [
        "###**EXERCISE 2**: *"
      ]
    },
    {
      "cell_type": "markdown",
      "metadata": {
        "id": "Z88iKMlg8np6",
        "colab_type": "text"
      },
      "source": [
        "Import the penguins built-in dataset:"
      ]
    },
    {
      "cell_type": "code",
      "metadata": {
        "id": "kfBhpO5e8XiG",
        "colab_type": "code",
        "colab": {}
      },
      "source": [
        ""
      ],
      "execution_count": null,
      "outputs": []
    },
    {
      "cell_type": "markdown",
      "metadata": {
        "id": "jnRXVhs1hIjP",
        "colab_type": "text"
      },
      "source": [
        "##**Initial Understanding**"
      ]
    },
    {
      "cell_type": "markdown",
      "metadata": {
        "colab_type": "text",
        "id": "5xT8q_PYN3V1"
      },
      "source": [
        "###**EXERCISE 3**: *"
      ]
    },
    {
      "cell_type": "markdown",
      "metadata": {
        "colab_type": "text",
        "id": "QbHC-gVscT1W"
      },
      "source": [
        "Use Pandas to see a sumary of the data (amount of observations, column names, data types...)"
      ]
    },
    {
      "cell_type": "code",
      "metadata": {
        "colab_type": "code",
        "id": "TqGu-eOzcT1W",
        "colab": {}
      },
      "source": [
        ""
      ],
      "execution_count": null,
      "outputs": []
    },
    {
      "cell_type": "markdown",
      "metadata": {
        "colab_type": "text",
        "id": "T0NfeKNzdjpH"
      },
      "source": [
        "###**EXERCISE 4**: *"
      ]
    },
    {
      "cell_type": "markdown",
      "metadata": {
        "colab_type": "text",
        "id": "NtCRS2RXN3V3"
      },
      "source": [
        "Remove empty values before jumping into the data:"
      ]
    },
    {
      "cell_type": "code",
      "metadata": {
        "colab_type": "code",
        "id": "dLwAFT20N3V4",
        "colab": {}
      },
      "source": [
        ""
      ],
      "execution_count": null,
      "outputs": []
    },
    {
      "cell_type": "markdown",
      "metadata": {
        "colab_type": "text",
        "id": "ZYiZGMmrcSdm"
      },
      "source": [
        "###**EXERCISE 5**: *"
      ]
    },
    {
      "cell_type": "markdown",
      "metadata": {
        "colab_type": "text",
        "id": "183WQxZ1cSdo"
      },
      "source": [
        "Which are the possible values for each categorical column?\n"
      ]
    },
    {
      "cell_type": "code",
      "metadata": {
        "colab_type": "code",
        "id": "mvZUSy_DcSdo",
        "colab": {}
      },
      "source": [
        ""
      ],
      "execution_count": null,
      "outputs": []
    },
    {
      "cell_type": "markdown",
      "metadata": {
        "colab_type": "text",
        "id": "FBm-lCc7R2R4"
      },
      "source": [
        "What are the main characteristics of each numerical column?"
      ]
    },
    {
      "cell_type": "code",
      "metadata": {
        "colab_type": "code",
        "id": "ypIC7-1sR2R5",
        "colab": {}
      },
      "source": [
        ""
      ],
      "execution_count": null,
      "outputs": []
    },
    {
      "cell_type": "markdown",
      "metadata": {
        "id": "MUlkNrCdSjS0",
        "colab_type": "text"
      },
      "source": [
        "What questions can we ask the biologists so far?"
      ]
    },
    {
      "cell_type": "code",
      "metadata": {
        "id": "36QwS-s8SjZF",
        "colab_type": "code",
        "colab": {}
      },
      "source": [
        ""
      ],
      "execution_count": null,
      "outputs": []
    },
    {
      "cell_type": "markdown",
      "metadata": {
        "id": "YuL5qsekcl0b",
        "colab_type": "text"
      },
      "source": [
        "##**Basic Plotting**"
      ]
    },
    {
      "cell_type": "markdown",
      "metadata": {
        "id": "3u16N5KJhlVx",
        "colab_type": "text"
      },
      "source": [
        "On this section you will have to answer the questions by drawing plots that show the answer:"
      ]
    },
    {
      "cell_type": "markdown",
      "metadata": {
        "colab_type": "text",
        "id": "hsybrAa2geCT"
      },
      "source": [
        "###**EXERCISE 6**: *"
      ]
    },
    {
      "cell_type": "markdown",
      "metadata": {
        "colab_type": "text",
        "id": "gfYuPGOtgeCV"
      },
      "source": [
        "How many penguins belong to each species group?"
      ]
    },
    {
      "cell_type": "code",
      "metadata": {
        "colab_type": "code",
        "id": "WZZpj2uUgeCW",
        "colab": {}
      },
      "source": [
        ""
      ],
      "execution_count": null,
      "outputs": []
    },
    {
      "cell_type": "markdown",
      "metadata": {
        "colab_type": "text",
        "id": "EC9dXSfpj8SN"
      },
      "source": [
        "How many penguins belong to each species group per sex?"
      ]
    },
    {
      "cell_type": "code",
      "metadata": {
        "colab_type": "code",
        "id": "EHzq48NAj8SO",
        "colab": {}
      },
      "source": [
        ""
      ],
      "execution_count": null,
      "outputs": []
    },
    {
      "cell_type": "markdown",
      "metadata": {
        "colab_type": "text",
        "id": "n8tTqhKQoh8j"
      },
      "source": [
        "How many penguins belong to each species group per island?"
      ]
    },
    {
      "cell_type": "code",
      "metadata": {
        "colab_type": "code",
        "id": "9CdjIG20oh8k",
        "colab": {}
      },
      "source": [
        ""
      ],
      "execution_count": null,
      "outputs": []
    },
    {
      "cell_type": "markdown",
      "metadata": {
        "id": "gqgUJbmtlNA9",
        "colab_type": "text"
      },
      "source": [
        "Write down your conclusions:"
      ]
    },
    {
      "cell_type": "markdown",
      "metadata": {
        "id": "2oL5rHFclVrC",
        "colab_type": "text"
      },
      "source": [
        "*WRITE HERE*"
      ]
    },
    {
      "cell_type": "markdown",
      "metadata": {
        "colab_type": "text",
        "id": "1yjo763t3-WF"
      },
      "source": [
        "###**EXERCISE 7**: *"
      ]
    },
    {
      "cell_type": "markdown",
      "metadata": {
        "colab_type": "text",
        "id": "Bt67rUP03-WK"
      },
      "source": [
        "What is the average weight of each species?"
      ]
    },
    {
      "cell_type": "code",
      "metadata": {
        "colab_type": "code",
        "id": "n2YK9Usk3-WL",
        "colab": {}
      },
      "source": [
        ""
      ],
      "execution_count": null,
      "outputs": []
    },
    {
      "cell_type": "markdown",
      "metadata": {
        "colab_type": "text",
        "id": "dF3IJ31aoVp9"
      },
      "source": [
        "What is the average weight of each species per sex?"
      ]
    },
    {
      "cell_type": "code",
      "metadata": {
        "colab_type": "code",
        "id": "FYAu6cfToVqC",
        "colab": {}
      },
      "source": [
        ""
      ],
      "execution_count": null,
      "outputs": []
    },
    {
      "cell_type": "markdown",
      "metadata": {
        "colab_type": "text",
        "id": "Y3pq-ChjEODX"
      },
      "source": [
        "Write down your conclusions:"
      ]
    },
    {
      "cell_type": "markdown",
      "metadata": {
        "colab_type": "text",
        "id": "Rs1_CkG2EODZ"
      },
      "source": [
        "*WRITE HERE*"
      ]
    },
    {
      "cell_type": "markdown",
      "metadata": {
        "id": "W0tXbYGZC7Ls",
        "colab_type": "text"
      },
      "source": [
        "##**Statistical plotting** "
      ]
    },
    {
      "cell_type": "markdown",
      "metadata": {
        "colab_type": "text",
        "id": "WOqtlLzq9z3f"
      },
      "source": [
        "###**EXERCISE 8**: **"
      ]
    },
    {
      "cell_type": "markdown",
      "metadata": {
        "colab_type": "text",
        "id": "geL_mNqn9z3h"
      },
      "source": [
        "Build a pairplot to overview feature relationships and try to identify visually any possible pattern\n"
      ]
    },
    {
      "cell_type": "code",
      "metadata": {
        "colab_type": "code",
        "id": "vgy3DtBv9z3i",
        "colab": {}
      },
      "source": [
        ""
      ],
      "execution_count": null,
      "outputs": []
    },
    {
      "cell_type": "markdown",
      "metadata": {
        "colab_type": "text",
        "id": "o2S9YZN7Fxri"
      },
      "source": [
        "Add an extra dimension to the plot by comparing species."
      ]
    },
    {
      "cell_type": "code",
      "metadata": {
        "colab_type": "code",
        "id": "kjsO2FKyFxrk",
        "colab": {}
      },
      "source": [
        ""
      ],
      "execution_count": null,
      "outputs": []
    },
    {
      "cell_type": "markdown",
      "metadata": {
        "colab_type": "text",
        "id": "036toavcGTbE"
      },
      "source": [
        "Write down your conclusions:"
      ]
    },
    {
      "cell_type": "markdown",
      "metadata": {
        "colab_type": "text",
        "id": "JPBiU3I7GTbF"
      },
      "source": [
        "*WRITE HERE*"
      ]
    },
    {
      "cell_type": "markdown",
      "metadata": {
        "id": "8WC5CZhzGXFW",
        "colab_type": "text"
      },
      "source": [
        "Can you suggest any further similar plotting?\n",
        "\n"
      ]
    },
    {
      "cell_type": "code",
      "metadata": {
        "id": "fTRxFQO9Gcrf",
        "colab_type": "code",
        "colab": {}
      },
      "source": [
        ""
      ],
      "execution_count": null,
      "outputs": []
    },
    {
      "cell_type": "markdown",
      "metadata": {
        "colab_type": "text",
        "id": "G1xf4_KCY22P"
      },
      "source": [
        "Write down your conclusions:"
      ]
    },
    {
      "cell_type": "markdown",
      "metadata": {
        "colab_type": "text",
        "id": "4_aGikzpY22P"
      },
      "source": [
        "*WRITE HERE*"
      ]
    },
    {
      "cell_type": "markdown",
      "metadata": {
        "colab_type": "text",
        "id": "jragPbijBCyG"
      },
      "source": [
        "###**EXERCISE 9**: **"
      ]
    },
    {
      "cell_type": "markdown",
      "metadata": {
        "colab_type": "text",
        "id": "WjcQ7AYIBCyH"
      },
      "source": [
        "Compare de distribution of body mass among penguin species\n"
      ]
    },
    {
      "cell_type": "code",
      "metadata": {
        "colab_type": "code",
        "id": "W1fkDiFsBCyH",
        "colab": {}
      },
      "source": [
        ""
      ],
      "execution_count": null,
      "outputs": []
    },
    {
      "cell_type": "code",
      "metadata": {
        "id": "5DU-16ntPcel",
        "colab_type": "code",
        "colab": {}
      },
      "source": [
        ""
      ],
      "execution_count": null,
      "outputs": []
    },
    {
      "cell_type": "markdown",
      "metadata": {
        "id": "B1u411mgPK61",
        "colab_type": "text"
      },
      "source": [
        "Now take also into accound species sex"
      ]
    },
    {
      "cell_type": "code",
      "metadata": {
        "colab_type": "code",
        "id": "c-KJ9mhQBCyJ",
        "colab": {}
      },
      "source": [
        ""
      ],
      "execution_count": null,
      "outputs": []
    },
    {
      "cell_type": "code",
      "metadata": {
        "id": "WkxwgsR5P7NS",
        "colab_type": "code",
        "colab": {}
      },
      "source": [
        ""
      ],
      "execution_count": null,
      "outputs": []
    },
    {
      "cell_type": "markdown",
      "metadata": {
        "colab_type": "text",
        "id": "DNXajEU5STFd"
      },
      "source": [
        "Write down your conclusions:"
      ]
    },
    {
      "cell_type": "markdown",
      "metadata": {
        "colab_type": "text",
        "id": "3IkscTPiSTFf"
      },
      "source": [
        "*WRITE HERE*"
      ]
    },
    {
      "cell_type": "markdown",
      "metadata": {
        "colab_type": "text",
        "id": "WJHxFUVUYZbC"
      },
      "source": [
        "##**Report summary** "
      ]
    },
    {
      "cell_type": "markdown",
      "metadata": {
        "colab_type": "text",
        "id": "yK61LJr2YZbD"
      },
      "source": [
        "###**EXERCISE 10**: **"
      ]
    },
    {
      "cell_type": "markdown",
      "metadata": {
        "colab_type": "text",
        "id": "hZVSzvm8Yg_B"
      },
      "source": [
        "What would be your feedback to the biologist lead? Are these characteristics enough to determine penguin species and sex?\n",
        "\n",
        "Did we miss any piece of information we could still study?"
      ]
    },
    {
      "cell_type": "markdown",
      "metadata": {
        "colab_type": "text",
        "id": "1GM7TK-4Yg_C"
      },
      "source": [
        "*WRITE HERE*"
      ]
    },
    {
      "cell_type": "markdown",
      "metadata": {
        "id": "p8Ss4VfwVTTC",
        "colab_type": "text"
      },
      "source": [
        "##**References**"
      ]
    },
    {
      "cell_type": "markdown",
      "metadata": {
        "id": "xO1u6FZBVW-k",
        "colab_type": "text"
      },
      "source": [
        "https://github.com/allisonhorst/palmerpenguins"
      ]
    }
  ]
}